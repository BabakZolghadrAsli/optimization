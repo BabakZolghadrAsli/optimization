{
 "cells": [
  {
   "cell_type": "code",
   "execution_count": 1,
   "id": "a83ed09f",
   "metadata": {},
   "outputs": [],
   "source": [
    "import numpy as np\n",
    "import matplotlib.pyplot as plt\n",
    "import time\n",
    "from ipywidgets import widgets\n",
    "from cec2017.functions import *"
   ]
  },
  {
   "cell_type": "code",
   "execution_count": 2,
   "id": "d2888940",
   "metadata": {},
   "outputs": [],
   "source": [
    "def boundery_checker(pop, min_val, max_val):\n",
    "    adj_pop = np.where(pop<min_val, min_val, pop)\n",
    "    adj_pop = np.where(adj_pop>max_val, max_val, adj_pop)\n",
    "    return adj_pop\n",
    "\n",
    "def init_genrator_tlbo(min_val, max_val, num_variables, pop_size):\n",
    "    return np.random.uniform(min_val, max_val, (pop_size, num_variables))\n",
    "\n",
    "def sorting_pop(pop, obj_func):\n",
    "    results = obj_func(pop)\n",
    "    indeces = np.argsort(results)\n",
    "    return pop[indeces]\n",
    "\n",
    "def teacher_phase(pop, pop_size, obj_func, min_val, max_val):\n",
    "    teacher = pop[0]\n",
    "    center = np.mean(pop, axis=0)\n",
    "    rand = np.random.uniform(0,1,size=(pop_size,1))\n",
    "    teacher_factor = np.random.choice(np.arange(1,3), size=(pop_size,1))\n",
    "    diff = rand*(teacher-center*teacher_factor)\n",
    "    pop_new = pop + diff\n",
    "    pop_new = boundery_checker(pop_new, min_val, max_val)\n",
    "    results = obj_func(pop)\n",
    "    results_new = obj_func(pop_new)\n",
    "    return np.where((results_new<results).reshape(-1,1), pop_new, pop)\n",
    "\n",
    "def learner_phase(pop, pop_size, obj_func, min_val, max_val):\n",
    "    rand = np.random.uniform(0,1,size=(pop_size,1))\n",
    "    pop_new = np.zeros_like(pop)\n",
    "    for i in range(pop_size):\n",
    "        x, y = np.sort(np.random.choice(np.arange(pop_size), size=2, replace=False))\n",
    "        pop_new[i] = pop[i] + rand[i]*(pop[x]-pop[y])\n",
    "    pop_new = boundery_checker(pop_new, min_val, max_val)\n",
    "    results = obj_func(pop)\n",
    "    results_new = obj_func(pop_new)\n",
    "    return np.where((results_new<results).reshape(-1,1), pop_new, pop)\n",
    "\n",
    "def tlbo_sep(pop_size, iteration, min_val, max_val, num_variables, obj_func):\n",
    "    NFE_value = 0\n",
    "    NFE = np.zeros(iteration)\n",
    "    result = np.zeros(iteration)\n",
    "    pop = init_genrator_tlbo(min_val, max_val, num_variables, pop_size)\n",
    "    pop = sorting_pop(pop, obj_func)\n",
    "    for i in range(iteration):\n",
    "        pop = teacher_phase(pop, pop_size, obj_func, min_val, max_val)\n",
    "        pop = sorting_pop(pop, obj_func)\n",
    "        pop = learner_phase(pop, pop_size, obj_func, min_val, max_val)\n",
    "        pop = sorting_pop(pop, obj_func)\n",
    "        NFE_value += (3*pop_size)\n",
    "        result[i] = obj_func([pop[0]])\n",
    "        NFE[i] = NFE_value\n",
    "    return pop[0], obj_func([pop[0]]), result, NFE"
   ]
  },
  {
   "cell_type": "code",
   "execution_count": 3,
   "id": "c45d297f",
   "metadata": {},
   "outputs": [],
   "source": [
    "def opt_plotting(obj_func_name, num_variables=10, min_val=-100, max_val=100, pop_size=20, iteration=700):\n",
    "    obj_func = eval(obj_func_name)\n",
    "    X_best, OF_best, result, NFE = tlbo_sep(pop_size, iteration, min_val, max_val, num_variables, obj_func)\n",
    "    fig = plt.plot(NFE, result)\n",
    "    fig = plt.grid(alpha=.5)\n",
    "    fig = plt.margins(0,.05)\n",
    "    fig = plt.axhline(OF_best,ls='--',alpha=.5,c='r')\n",
    "    fig = plt.title('Optimum point: %.2E'%OF_best)\n",
    "    plt.tight_layout()\n",
    "\n",
    "funct_name = ['f%d'%i for i in range(1, 31)]"
   ]
  },
  {
   "cell_type": "code",
   "execution_count": 4,
   "id": "9f4e1958",
   "metadata": {
    "scrolled": false
   },
   "outputs": [
    {
     "data": {
      "application/vnd.jupyter.widget-view+json": {
       "model_id": "7230c44df90e496f812da495d71db9b8",
       "version_major": 2,
       "version_minor": 0
      },
      "text/plain": [
       "interactive(children=(Dropdown(description='obj_func_name', options=('f1', 'f2', 'f3', 'f4', 'f5', 'f6', 'f7',…"
      ]
     },
     "metadata": {},
     "output_type": "display_data"
    },
    {
     "data": {
      "text/plain": [
       "<function __main__.opt_plotting(obj_func_name, num_variables=10, min_val=-100, max_val=100, pop_size=20, iteration=700)>"
      ]
     },
     "execution_count": 4,
     "metadata": {},
     "output_type": "execute_result"
    }
   ],
   "source": [
    "widgets.interact(opt_plotting, obj_func_name=funct_name, num_variables=[2, 10, 50], min_val=(-100, -10, 10), \n",
    "                 max_val=(10, 100, 10), pop_size=(10, 100, 10), iteration=(100, 5000, 100))"
   ]
  },
  {
   "cell_type": "markdown",
   "id": "ae038625",
   "metadata": {},
   "source": [
    "<div class='alert alert-info'>\n",
    "    <h5>2D space represantation</h5>\n",
    "</div>"
   ]
  },
  {
   "cell_type": "code",
   "execution_count": 5,
   "id": "80766caa",
   "metadata": {},
   "outputs": [],
   "source": [
    "def plot_2D(obj_func_name, min_val=-100, max_val=100, pop_size=20, iteration=700, xgap=.07, ygap=.04,\n",
    "           mesh_size=200, color_map1='viridis', color_map2 = 'viridis'):\n",
    "    num_variables=2\n",
    "    obj_func = eval(obj_func_name)\n",
    "    X_best, OF_best, result, NFE = tlbo_sep(pop_size, iteration, min_val, max_val, num_variables, obj_func)\n",
    "    \n",
    "    \n",
    "    fig = plt.figure(figsize=(8, 3))\n",
    "    fig = plt.suptitle('Optimum point: %.2E'%OF_best)\n",
    "    plt.subplot(1, 2, 1)\n",
    "    x1_full = np.linspace(min_val, max_val, 100)\n",
    "    x2_full = np.linspace(min_val, max_val, 100)\n",
    "    X1, X2 = np.meshgrid(x1_full, x2_full)\n",
    "    flat_mesh = np.c_[X1.flat, X2.flat]\n",
    "    Z = obj_func(flat_mesh).reshape(X1.shape)\n",
    "    fig = plt.contourf(X1, X2, Z, extend='max', cmap = color_map1)\n",
    "    cbar = plt.colorbar(fig)\n",
    "    fig = plt.scatter(X_best[0], X_best[1], marker='x', c='r', s=15)\n",
    "\n",
    "    plt.subplot(1, 2, 2)\n",
    "    obj_func = eval(obj_func_name)\n",
    "    X_best, OF_best, result, NFE = tlbo_sep(pop_size, iteration, min_val, max_val, num_variables, obj_func)\n",
    "    x1_min, x1_max = np.array([1-xgap, 1+xgap])*X_best[0]\n",
    "    x2_min, x2_max = np.array([1-ygap, 1+ygap])*X_best[1]\n",
    "    x1 = np.linspace(x1_min, x1_max, mesh_size)\n",
    "    x2 = np.linspace(x2_min, x2_max, mesh_size)\n",
    "    X1, X2 = np.meshgrid(x1, x2)\n",
    "    flat_mesh = np.c_[X1.flat, X2.flat]\n",
    "    Z = obj_func(flat_mesh).reshape(X1.shape)\n",
    "    fig = plt.contourf(X1, X2, Z, extend='max', cmap=color_map2)\n",
    "    cbar = plt.colorbar(fig)\n",
    "    fig = plt.scatter(X_best[0], X_best[1], marker='x', c='r', s=15)\n",
    "\n",
    "    plt.tight_layout()\n",
    "    \n",
    "cm_names = ['viridis', 'plasma', 'inferno', 'magma', 'cividis',\n",
    "            'Greys', 'Purples', 'Blues', 'Greens', 'Oranges',\n",
    "            'Reds', 'YlOrBr', 'YlOrRd', 'OrRd', 'PuRd', 'RdPu',\n",
    "            'BuPu','GnBu', 'PuBu', 'YlGnBu', 'PuBuGn', 'BuGn', 'YlGn',\n",
    "            'binary', 'gist_yarg', 'gist_gray', 'gray', 'bone', 'pink',\n",
    "            'spring', 'summer', 'autumn', 'winter', 'cool', 'Wistia',\n",
    "            'hot', 'afmhot', 'gist_heat', 'copper', 'PiYG', 'PRGn', 'BrBG',\n",
    "            'PuOr', 'RdGy', 'RdBu', 'RdYlBu', 'RdYlGn', 'Spectral', 'coolwarm',\n",
    "            'bwr', 'seismic', 'twilight', 'twilight_shifted', 'hsv']\n",
    "obj_func_list = ['f1', 'f2', 'f3', 'f4', 'f5', 'f6', 'f7', 'f8', 'f9', 'f10']"
   ]
  },
  {
   "cell_type": "code",
   "execution_count": 6,
   "id": "bc7ed42e",
   "metadata": {
    "scrolled": false
   },
   "outputs": [
    {
     "data": {
      "application/vnd.jupyter.widget-view+json": {
       "model_id": "aa1c3dcb3584430290f6d35641ff6f3f",
       "version_major": 2,
       "version_minor": 0
      },
      "text/plain": [
       "interactive(children=(Dropdown(description='obj_func_name', options=('f1', 'f2', 'f3', 'f4', 'f5', 'f6', 'f7',…"
      ]
     },
     "metadata": {},
     "output_type": "display_data"
    },
    {
     "data": {
      "text/plain": [
       "<function __main__.plot_2D(obj_func_name, min_val=-100, max_val=100, pop_size=20, iteration=700, xgap=0.07, ygap=0.04, mesh_size=200, color_map1='viridis', color_map2='viridis')>"
      ]
     },
     "execution_count": 6,
     "metadata": {},
     "output_type": "execute_result"
    }
   ],
   "source": [
    "widgets.interact(plot_2D, obj_func_name=obj_func_list, min_val=(-100, -10, 20), max_val=(10, 101, 20),\n",
    "                 pop_size=(10, 100, 20), iteration=(100, 2000, 200), mesh_size=[100, 200, 500], xgap=(.01, 1.5, .01),\n",
    "                 ygap=(.01, 1.5, .01), color_map1=cm_names, color_map2 = cm_names)"
   ]
  }
 ],
 "metadata": {
  "kernelspec": {
   "display_name": "Python 3 (ipykernel)",
   "language": "python",
   "name": "python3"
  },
  "language_info": {
   "codemirror_mode": {
    "name": "ipython",
    "version": 3
   },
   "file_extension": ".py",
   "mimetype": "text/x-python",
   "name": "python",
   "nbconvert_exporter": "python",
   "pygments_lexer": "ipython3",
   "version": "3.9.13"
  }
 },
 "nbformat": 4,
 "nbformat_minor": 5
}
